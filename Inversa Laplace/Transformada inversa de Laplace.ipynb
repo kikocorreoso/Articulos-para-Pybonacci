{
 "cells": [
  {
   "cell_type": "markdown",
   "metadata": {},
   "source": [
    "## Transformada inversa de Laplace\n",
    "\n",
    "En control de procesos podemos describir la dinámica de un procesos utilizando la función de transferencia, $G(s)$. La respuesta del proceso, $y(s)$, es:\n",
    "\n",
    "$$y(s) = G(s) f(s)$$\n",
    "\n",
    "donde $f(s)$ es la función entrada. Las funciones de entrada típicas pueden ser el escalón, el impulso o el seno, por decir tres habituales.\n",
    "\n",
    "Para obtener la respuesta dinámica con el tiempo es necesario realizar la transformda inversa de Laplace:\n",
    "\n",
    "$$y(t) = L^{-1}[y(s)]$$\n",
    "\n",
    "A continuación vamos a ver como se calcula de manera sencilla utilizando __sympy__, cuando podemos obtener una solución algebráica, y como calcular $y(t)$ numéricamente utilizando __mpmath__"
   ]
  },
  {
   "cell_type": "markdown",
   "metadata": {},
   "source": [
    "### Usando sympy\n",
    "\n",
    "Ideal cuando tenemos sistemas relativamente simples. Veamos un ejemplo consistente en un proceso de segundo orden y una entrada en forma de escalón unidad:\n",
    "\n",
    "$$ G(s) = \\frac{1}{(s+1) (s+3)} \\\\ y(s) = \\frac{1}{s}$$\n",
    "\n",
    "Empezamos cargando sympy:"
   ]
  },
  {
   "cell_type": "code",
   "execution_count": 1,
   "metadata": {},
   "outputs": [],
   "source": [
    "from sympy import *\n",
    "init_printing() # Para obtener resultado bonitos"
   ]
  },
  {
   "cell_type": "markdown",
   "metadata": {},
   "source": [
    "A continuación cargamos los símbolos que vamos a necesitar:"
   ]
  },
  {
   "cell_type": "code",
   "execution_count": 2,
   "metadata": {},
   "outputs": [],
   "source": [
    "t = symbols(\"t\", real=True)\n",
    "s = symbols(\"s\")"
   ]
  },
  {
   "cell_type": "markdown",
   "metadata": {},
   "source": [
    "y definimos $G(s)$ y $f(s)$:"
   ]
  },
  {
   "cell_type": "code",
   "execution_count": 9,
   "metadata": {},
   "outputs": [],
   "source": [
    "G = 1/((s+1)*(s+3))\n",
    "f = 1/s\n",
    "y = G*f"
   ]
  },
  {
   "cell_type": "raw",
   "metadata": {},
   "source": [
    "Para obtener $y(t)$ realizaremos la trasnformada inversa de Laplace. La sintaxis es muy sencilla y se ve claramente en el ejemplo:"
   ]
  },
  {
   "cell_type": "code",
   "execution_count": 10,
   "metadata": {},
   "outputs": [
    {
     "data": {
      "image/png": "[encoded data removed]",
      "text/latex": [
       "$\\displaystyle \\frac{\\theta\\left(t\\right)}{3} - \\frac{e^{- t} \\theta\\left(t\\right)}{2} + \\frac{e^{- 3 t} \\theta\\left(t\\right)}{6}$"
      ],
      "text/plain": [
       "        -t         -3⋅t     \n",
       "θ(t)   ℯ  ⋅θ(t)   ℯ    ⋅θ(t)\n",
       "──── - ──────── + ──────────\n",
       " 3        2           6     "
      ]
     },
     "execution_count": 10,
     "metadata": {},
     "output_type": "execute_result"
    }
   ],
   "source": [
    "inverse_laplace_transform(y, s, t)"
   ]
  },
  {
   "cell_type": "markdown",
   "metadata": {},
   "source": [
    "Ya hemos obtenido la respuesta. Sympy representa el escalón unidad o función de Heaviside como $\\theta(t)$."
   ]
  },
  {
   "cell_type": "markdown",
   "metadata": {},
   "source": [
    "Veamos que ocurre si planteamos una función de transferencia más compleja:"
   ]
  },
  {
   "cell_type": "code",
   "execution_count": 11,
   "metadata": {},
   "outputs": [],
   "source": [
    "G2 = 1/(s**4+s**3+s**2+s+1)\n",
    "y2 = G2*f"
   ]
  },
  {
   "cell_type": "code",
   "execution_count": 6,
   "metadata": {},
   "outputs": [],
   "source": [
    "# inverse_laplace_transform(y2, s, t)"
   ]
  },
  {
   "cell_type": "markdown",
   "metadata": {},
   "source": [
    "En mi ordenador, sympy se ha quedado pensando y he tenido que acabar interrumpiendo el cálculo. En estas situaciones en las que no podemos obtener una solución analitica, tenemos que recurrir al cálculo numérico. Afortunadamente es casi tan sencillo como utilizar sympy."
   ]
  },
  {
   "cell_type": "markdown",
   "metadata": {},
   "source": [
    "### Resolución numérica\n",
    "\n",
    "Empezaremos cargando las dos instrucciones que vamos a necesitar, _invertlaplace_ de mpmath y _linspace_ de numpy:"
   ]
  },
  {
   "cell_type": "code",
   "execution_count": 7,
   "metadata": {},
   "outputs": [],
   "source": [
    "from mpmath import invertlaplace\n",
    "from numpy import linspace"
   ]
  },
  {
   "cell_type": "markdown",
   "metadata": {},
   "source": [
    "A continuación vamos a transformar la expresión de sympy en una versión apta para poder trabajar con ella numéricamente usando _lambdify_:"
   ]
  },
  {
   "cell_type": "code",
   "execution_count": 14,
   "metadata": {},
   "outputs": [],
   "source": [
    "ylam = lambdify(s, y2)"
   ]
  },
  {
   "cell_type": "markdown",
   "metadata": {},
   "source": [
    "Vamos a simular la respuesta de este sistema para tiempos de 0.01 a 10. Calcularemos 100 puntos. Para eso crearemos un vector utilizando _linspace_:"
   ]
  },
  {
   "cell_type": "code",
   "execution_count": 13,
   "metadata": {},
   "outputs": [],
   "source": [
    "tmin = 0.01\n",
    "tmax = 10\n",
    "n = 100\n",
    "tnum = linspace(tmin, tmax, n)"
   ]
  },
  {
   "cell_type": "markdown",
   "metadata": {},
   "source": [
    "La función _invertlaplace_ calcula numéricamente la transformada inversa de Laplace en un punto, como queremos calcularla para todos los puntos del vector _tnum_, usaremos un bucle:"
   ]
  },
  {
   "cell_type": "code",
   "execution_count": 15,
   "metadata": {},
   "outputs": [],
   "source": [
    "ynum = [invertlaplace(ylam, i, method=\"dehoog\") for i in tnum]"
   ]
  },
  {
   "cell_type": "markdown",
   "metadata": {},
   "source": [
    "Hay diferentes métodos numéricos para calcular la inversa de la transformada de Laplace, después de varias pruebas, en general, en método que mejor resultado me ha dado de \"dehoog\". En la documentación se pueden encontrar fácilmente los otros métodos disponibles.\n",
    "\n",
    "Vamos a representar la respuesta que hemos obtenido:"
   ]
  },
  {
   "cell_type": "code",
   "execution_count": 18,
   "metadata": {},
   "outputs": [
    {
     "data": {
      "text/plain": [
       "[<matplotlib.lines.Line2D at 0x11f806630>]"
      ]
     },
     "execution_count": 18,
     "metadata": {},
     "output_type": "execute_result"
    },
    {
     "data": {
      "image/png": "[encoded data removed]",
      "text/plain": [
       "<Figure size 432x288 with 1 Axes>"
      ]
     },
     "metadata": {
      "needs_background": "light"
     },
     "output_type": "display_data"
    }
   ],
   "source": [
    "from matplotlib import pyplot as plt\n",
    "\n",
    "plt.plot(tnum, ynum)"
   ]
  },
  {
   "cell_type": "code",
   "execution_count": null,
   "metadata": {},
   "outputs": [],
   "source": []
  }
 ],
 "metadata": {
  "kernelspec": {
   "display_name": "Python 3",
   "language": "python",
   "name": "python3"
  },
  "language_info": {
   "codemirror_mode": {
    "name": "ipython",
    "version": 3
   },
   "file_extension": ".py",
   "mimetype": "text/x-python",
   "name": "python",
   "nbconvert_exporter": "python",
   "pygments_lexer": "ipython3",
   "version": "3.7.1"
  }
 },
 "nbformat": 4,
 "nbformat_minor": 2
}
